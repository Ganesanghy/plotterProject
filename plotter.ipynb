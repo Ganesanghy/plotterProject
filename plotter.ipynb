{
 "cells": [
  {
   "cell_type": "code",
   "execution_count": 1,
   "id": "61cb1256-9708-4713-8209-36b356c5a9cf",
   "metadata": {
    "tags": []
   },
   "outputs": [],
   "source": [
    "import numpy as np\n",
    "import pandas as pd\n",
    "from plotly import *\n",
    "import plotly.offline as po\n",
    "import cufflinks as cf"
   ]
  },
  {
   "cell_type": "code",
   "execution_count": 2,
   "id": "9dbc7b71-d3d2-4840-b638-8a898cbfe5aa",
   "metadata": {
    "tags": []
   },
   "outputs": [
    {
     "data": {
      "text/html": [
       "        <script type=\"text/javascript\">\n",
       "        window.PlotlyConfig = {MathJaxConfig: 'local'};\n",
       "        if (window.MathJax && window.MathJax.Hub && window.MathJax.Hub.Config) {window.MathJax.Hub.Config({SVG: {font: \"STIX-Web\"}});}\n",
       "        if (typeof require !== 'undefined') {\n",
       "        require.undef(\"plotly\");\n",
       "        requirejs.config({\n",
       "            paths: {\n",
       "                'plotly': ['https://cdn.plot.ly/plotly-2.18.2.min']\n",
       "            }\n",
       "        });\n",
       "        require(['plotly'], function(Plotly) {\n",
       "            window._Plotly = Plotly;\n",
       "        });\n",
       "        }\n",
       "        </script>\n",
       "        "
      ]
     },
     "metadata": {},
     "output_type": "display_data"
    },
    {
     "data": {
      "text/html": [
       "        <script type=\"text/javascript\">\n",
       "        window.PlotlyConfig = {MathJaxConfig: 'local'};\n",
       "        if (window.MathJax && window.MathJax.Hub && window.MathJax.Hub.Config) {window.MathJax.Hub.Config({SVG: {font: \"STIX-Web\"}});}\n",
       "        if (typeof require !== 'undefined') {\n",
       "        require.undef(\"plotly\");\n",
       "        requirejs.config({\n",
       "            paths: {\n",
       "                'plotly': ['https://cdn.plot.ly/plotly-2.18.2.min']\n",
       "            }\n",
       "        });\n",
       "        require(['plotly'], function(Plotly) {\n",
       "            window._Plotly = Plotly;\n",
       "        });\n",
       "        }\n",
       "        </script>\n",
       "        "
      ]
     },
     "metadata": {},
     "output_type": "display_data"
    }
   ],
   "source": [
    "po.init_notebook_mode(connected=True)\n",
    "cf.go_offline()"
   ]
  },
  {
   "cell_type": "code",
   "execution_count": 3,
   "id": "89fd9d63-c513-4dfa-8e85-545030725826",
   "metadata": {
    "tags": []
   },
   "outputs": [],
   "source": [
    "def createdata(data):\n",
    "    if(data == 1):\n",
    "        x = np.random.rand(100,5)\n",
    "        df1 = pd.DataFrame(x, columns = ['A','B','C','D','E'])\n",
    "    elif(data == 2):\n",
    "        x = [0,0,0,0,0]\n",
    "        r1 = [0,0,0,0,0]\n",
    "        r2 = [0,0,0,0,0]\n",
    "        r3 = [0,0,0,0,0]\n",
    "        r4 = [0,0,0,0,0]\n",
    "        print('Enter the values for columns')\n",
    "        i = 0\n",
    "        for i in [0,1,2,3,4]:\n",
    "            x[i] = input()\n",
    "            i = i + 1\n",
    "        print('Enter the values for First row')\n",
    "        i = 0\n",
    "        for i in [0,1,2,3,4]:\n",
    "            r1[i] = input()\n",
    "            i = i + 1\n",
    "        print('Enter the values for second row')\n",
    "        i = 0\n",
    "        for i in [0,1,2,3,4]:\n",
    "            r2[i] = input()\n",
    "            i = i + 1\n",
    "        print('Enter the values Third row')\n",
    "        i = 0\n",
    "        for i in [0,1,2,3,4]:\n",
    "            r3[i] = input()\n",
    "            i = i + 1\n",
    "        print('Enter the values Fourth row')\n",
    "        i = 0\n",
    "        for i in [0,1,2,3,4]:\n",
    "            r4[i] = input()\n",
    "            i = i + 1\n",
    "        df1 = pd.DataFrame([r1,r2,r3,r4], columns = x)    \n",
    "    elif(data == 3):\n",
    "        file = input('Enter the file name')\n",
    "        x = pd.read_csv(file)\n",
    "        df1 = pd.DataFrame(x)\n",
    "    else:\n",
    "        print('DataFrame creation failes please enter in between 1 to 3')\n",
    "    return df1"
   ]
  },
  {
   "cell_type": "code",
   "execution_count": 4,
   "id": "84043067-da0e-45fe-a4a0-04a1fb24e10e",
   "metadata": {
    "tags": []
   },
   "outputs": [],
   "source": [
    "def plotter(plot):\n",
    "    if(plot == 1):\n",
    "        finalplot = df1.iplot(kind = 'scatter')\n",
    "    elif(plot == 2):\n",
    "        finalplot = df1.iplot(kind = 'scatter', mode='markers', symbol ='x',colorscale = 'paired')\n",
    "    elif(plot == 3):\n",
    "        finalplot = df1.iplot(kind = \"bar\")\n",
    "    elif(plot == 4):\n",
    "        finalplot = df1.iplot(kind = \"hist\")\n",
    "    elif(plot == 5):\n",
    "        finalplot = df1. iplot(kind =\"box\")\n",
    "    elif(plot == 6):\n",
    "        finalplot = df1.iplot(kind = \"surface\")\n",
    "    else:\n",
    "        finalplot = print(\"Select only between 1 to 6\")\n",
    "    return finalplot"
   ]
  },
  {
   "cell_type": "code",
   "execution_count": 12,
   "id": "7c81c014-bcc5-40c9-800e-cd7275f15eff",
   "metadata": {
    "tags": []
   },
   "outputs": [],
   "source": [
    "def plotter2(plot):\n",
    "    col = int(input('Enter the number of columns you want to plot by selecting only 1,2 or 3'))\n",
    "    if(col == 1):\n",
    "        colm = input('Enter the column you want to plot selecting any column from dataframe head')\n",
    "        if(plot == 1):\n",
    "            finalplot = df1[colm].iplot(kind = \"scatter\")\n",
    "        elif(plot == 2):\n",
    "            finalplot = df1[colm].iplot(kind = \"scatter\", mode = \"marker\", colorscale =\"paired\")\n",
    "        elif(plot == 3): \n",
    "            finalplot = df1[colm].iplot(kind = \"bar\")\n",
    "        elif(plot == 4):\n",
    "            finalplot = df1[colm].iplot(kind = \"hist\")\n",
    "        elif(plot == 5):\n",
    "            finalplot = df1[colm].iplot(kind = \"box\")\n",
    "        elif(plot == 6 or plot == 7):\n",
    "            finalplot = print('Bubble plot and surface plot require more than one column arguments')\n",
    "        else:\n",
    "            finalplot = print('Select only between 1 to 7')\n",
    "    elif(col == 2):\n",
    "        x = input('Frist columns')\n",
    "        y = input('Second columns')\n",
    "        if(plot == 1):\n",
    "            finalplot = df1[[x,y]].iplot(kind='scatter')\n",
    "        elif(plot == 2):\n",
    "            finalplot = df1[[x,y]].iplot(kind='scatter' , mode ='marker')\n",
    "        elif(plot == 3):\n",
    "            finalplot = df1[[x,y]].iplot(kind='bar')\n",
    "        elif(plot == 4):\n",
    "            finalplot = df1[[x,y]].iplot(kind='hist')\n",
    "        elif(plot == 5):\n",
    "            finalplot = df1[[x,y]].iplot(kind='box')\n",
    "        elif(plot == 6):\n",
    "            finalplot = df1[[x,y]].iplot(kind='surface')\n",
    "        elif(plot == 7):\n",
    "            size = input('Please enter the size column for bubble plot')\n",
    "            finalplot = df1.iplot(kind='bubble',x=x,y=y,size=size)\n",
    "        else: \n",
    "            finalplot = print('please correctly')\n",
    "    elif(col == 3):\n",
    "        x = input('Frist columns')\n",
    "        y = input('Second columns')\n",
    "        z = input('Third columns') \n",
    "        if(plot == 1):\n",
    "            finalplot = df1[[x,y,z]].iplot(kind='scatter')\n",
    "        elif(plot == 2):\n",
    "            finalplot = df1[[x,y,z]].iplot(kind='scatter' , mode ='marker')\n",
    "        elif(plot == 3):\n",
    "            finalplot = df1[[x,y,z]].iplot(kind='bar')\n",
    "        elif(plot == 4):\n",
    "            finalplot = df1[[x,y,z]].iplot(kind='hist')\n",
    "        elif(plot == 5):\n",
    "            finalplot = df1[[x,y,z]].iplot(kind='box')\n",
    "        elif(plot == 6):\n",
    "            finalplot = df1[[x,y,z]].iplot(kind='surface')\n",
    "        elif(plot == 7):\n",
    "            size = input('Please enter the size column for bubble plot')\n",
    "            finalplot = df1.iplot(kind='bubble',x=x,y=y,size=size)\n",
    "        else:\n",
    "            finalplot = print('Select only between 1 to 7')\n",
    "    else:\n",
    "        finalplot = print('Please enter only between 1, 2 or 3')\n",
    "    return finalplot\n",
    "            "
   ]
  },
  {
   "cell_type": "code",
   "execution_count": 13,
   "id": "414e7f8f-d6e6-4c8c-bfb7-785810650ef8",
   "metadata": {
    "tags": []
   },
   "outputs": [],
   "source": [
    "def main(cat):\n",
    "    if(cat == 1):\n",
    "        print('Select the type of plot you need to plot by writing 1 to 6')\n",
    "        print('1. Line plot')\n",
    "        print('2. Scatter plot')\n",
    "        print('3. Bar plot')\n",
    "        print('4. Histogram')\n",
    "        print('5. Box plot')\n",
    "        print('6. Surface plot')\n",
    "        plot = int(input())\n",
    "        output = plotter(plot)\n",
    "    elif(cat == 2):\n",
    "        print('Select the type of plot you need to plot by writing 1 to 7')\n",
    "        print('1. Line plot')\n",
    "        print('2. Scatter plot')\n",
    "        print('3. Bar plot')\n",
    "        print('4. Histogram')\n",
    "        print('5. Box plot')\n",
    "        print('6. Surface plot')\n",
    "        print('7. Bubble plot')\n",
    "        plot = int(input())\n",
    "        output = plotter2(plot)\n",
    "    else:\n",
    "        print('Please enter 1 or 2 and try again')\n",
    "    return output"
   ]
  },
  {
   "cell_type": "code",
   "execution_count": null,
   "id": "ff3d22e5-c14f-4191-9963-ea56267bb900",
   "metadata": {
    "tags": []
   },
   "outputs": [],
   "source": [
    "print('Select the type of data you need to plot(By writing 1,2, or 3)')\n",
    "print('1. Random data with 100 rows and 5 columns')\n",
    "print('2. Customize dataframe with 5 columns and 4 rows')\n",
    "print('3. Upload csv/json/txt file')\n",
    "data = int(input())\n",
    "df1 = createdata(data)"
   ]
  },
  {
   "cell_type": "code",
   "execution_count": null,
   "id": "351ba487-a32c-46ba-8b1e-7d4e74fd6872",
   "metadata": {},
   "outputs": [],
   "source": [
    "print('what kind of plot you need, the complete data plot or columns plot')\n",
    "cat = input('Press 1 for plotting all columns or press 2 for specifying columns to plot')\n",
    "cat = int(cat)"
   ]
  },
  {
   "cell_type": "code",
   "execution_count": null,
   "id": "d59c6f28-cc17-49e7-ae94-475217a59525",
   "metadata": {},
   "outputs": [],
   "source": [
    "main(cat)"
   ]
  },
  {
   "cell_type": "code",
   "execution_count": null,
   "id": "0840f88a-d37d-4360-b842-7e823e043cab",
   "metadata": {},
   "outputs": [],
   "source": []
  }
 ],
 "metadata": {
  "kernelspec": {
   "display_name": "Python 3 (ipykernel)",
   "language": "python",
   "name": "python3"
  },
  "language_info": {
   "codemirror_mode": {
    "name": "ipython",
    "version": 3
   },
   "file_extension": ".py",
   "mimetype": "text/x-python",
   "name": "python",
   "nbconvert_exporter": "python",
   "pygments_lexer": "ipython3",
   "version": "3.10.0"
  }
 },
 "nbformat": 4,
 "nbformat_minor": 5
}
